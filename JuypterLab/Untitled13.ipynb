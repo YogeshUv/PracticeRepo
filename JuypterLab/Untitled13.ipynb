{
 "cells": [
  {
   "cell_type": "code",
   "execution_count": 18,
   "id": "feb4c6d8",
   "metadata": {},
   "outputs": [
    {
     "name": "stdout",
     "output_type": "stream",
     "text": [
      "False\n"
     ]
    }
   ],
   "source": [
    "\n",
    "def check(s):\n",
    "    open_brackets = ['(','{','[']\n",
    "    close_brackets = [')','}',']']\n",
    "    stack = []\n",
    "    for i in s:\n",
    "        if i in open_brackets:\n",
    "            stack.append(i)\n",
    "        elif i in close_brackets:\n",
    "            pos = close_brackets.index(i)\n",
    "            if len(stack)> 0 and open_brackets[pos] == stack[len(stack)-1]:\n",
    "                stack.pop()\n",
    "            else:\n",
    "                return False\n",
    "    if len(stack) == 0:\n",
    "        return True\n",
    "    else:\n",
    "        return False\n",
    "    \n",
    "\n",
    "    \n",
    "    \n",
    "\n",
    "s = '{{{{{{}})}}}}'\n",
    "ans = check(s)\n",
    "print(ans)"
   ]
  },
  {
   "cell_type": "code",
   "execution_count": 13,
   "id": "ee5f32b6",
   "metadata": {},
   "outputs": [
    {
     "data": {
      "text/plain": [
       "'}'"
      ]
     },
     "execution_count": 13,
     "metadata": {},
     "output_type": "execute_result"
    }
   ],
   "source": [
    "close_brackets = [')','}',']']\n",
    "po = close_brackets.index('}')\n",
    "close_brackets[po]"
   ]
  },
  {
   "cell_type": "code",
   "execution_count": 25,
   "id": "6ee76428",
   "metadata": {},
   "outputs": [
    {
     "data": {
      "text/plain": [
       "False"
      ]
     },
     "execution_count": 25,
     "metadata": {},
     "output_type": "execute_result"
    }
   ],
   "source": [
    "a = s.isalnum()s\n",
    "a\n"
   ]
  },
  {
   "cell_type": "code",
   "execution_count": 1,
   "id": "6ee358f9",
   "metadata": {},
   "outputs": [
    {
     "data": {
      "text/plain": [
       "True"
      ]
     },
     "execution_count": 1,
     "metadata": {},
     "output_type": "execute_result"
    }
   ],
   "source": [
    "s = \"helloWorld\"\n",
    "s.isalpha()"
   ]
  },
  {
   "cell_type": "code",
   "execution_count": 2,
   "id": "216ccc6d",
   "metadata": {},
   "outputs": [
    {
     "data": {
      "text/plain": [
       "False"
      ]
     },
     "execution_count": 2,
     "metadata": {},
     "output_type": "execute_result"
    }
   ],
   "source": [
    "s = 'Hello123'\n",
    "s.isalpha()"
   ]
  },
  {
   "cell_type": "code",
   "execution_count": 5,
   "id": "234aff1b",
   "metadata": {},
   "outputs": [
    {
     "data": {
      "text/plain": [
       "'pythonv'"
      ]
     },
     "execution_count": 5,
     "metadata": {},
     "output_type": "execute_result"
    }
   ],
   "source": [
    "s = 'python3.10v'\n",
    "alpha_only = ''.join(i for i in s if i.isalpha())\n",
    "alpha_only"
   ]
  },
  {
   "cell_type": "code",
   "execution_count": 6,
   "id": "59ae6f50",
   "metadata": {},
   "outputs": [
    {
     "name": "stdout",
     "output_type": "stream",
     "text": [
      "True\n",
      "False\n"
     ]
    }
   ],
   "source": [
    "s = \"12345\"\n",
    "print(s.isdigit())  # True\n",
    "\n",
    "s = \"123abc\"\n",
    "print(s.isdigit())  # False"
   ]
  },
  {
   "cell_type": "code",
   "execution_count": 7,
   "id": "3ac28867",
   "metadata": {},
   "outputs": [
    {
     "name": "stdout",
     "output_type": "stream",
     "text": [
      "Valid age\n"
     ]
    }
   ],
   "source": [
    "# Validate age input\n",
    "age = \"25\"\n",
    "if age.isdigit():\n",
    "    print(\"Valid age\")\n",
    "else:\n",
    "    print(\"Invalid age\")\n"
   ]
  },
  {
   "cell_type": "code",
   "execution_count": 9,
   "id": "027de0b2",
   "metadata": {},
   "outputs": [
    {
     "name": "stdout",
     "output_type": "stream",
     "text": [
      "True\n",
      "False\n"
     ]
    }
   ],
   "source": [
    "s = \"    \"\n",
    "print(s.isspace())  # True\n",
    "\n",
    "s = \"hello world\"\n",
    "print(s.isspace())  # False\n"
   ]
  }
 ],
 "metadata": {
  "kernelspec": {
   "display_name": "Python 3 (ipykernel)",
   "language": "python",
   "name": "python3"
  },
  "language_info": {
   "codemirror_mode": {
    "name": "ipython",
    "version": 3
   },
   "file_extension": ".py",
   "mimetype": "text/x-python",
   "name": "python",
   "nbconvert_exporter": "python",
   "pygments_lexer": "ipython3",
   "version": "3.11.7"
  }
 },
 "nbformat": 4,
 "nbformat_minor": 5
}
