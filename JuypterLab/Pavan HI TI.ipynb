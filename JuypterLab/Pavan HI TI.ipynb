{
 "cells": [
  {
   "cell_type": "code",
   "execution_count": 1,
   "id": "d2244ae7",
   "metadata": {},
   "outputs": [
    {
     "name": "stdout",
     "output_type": "stream",
     "text": [
      "Requirement already satisfied: psycopg2-binary in c:\\users\\dell\\appdata\\roaming\\python\\python311\\site-packages (2.9.9)\n",
      "Note: you may need to restart the kernel to use updated packages.\n"
     ]
    }
   ],
   "source": [
    "pip install psycopg2-binary"
   ]
  },
  {
   "cell_type": "code",
   "execution_count": 6,
   "id": "f498f6be",
   "metadata": {},
   "outputs": [
    {
     "name": "stdout",
     "output_type": "stream",
     "text": [
      "[(102, 512, '132404', None, '303', Decimal('13'), Decimal('13'), 'Y', Decimal('6'), Decimal('6'), 'Y', Decimal('13'), Decimal('13'), 'Y', Decimal('9'), Decimal('9'), 'Y', '20288', '10', '0000020288', 'Open', datetime.date(2024, 8, 20)), (102, 524, '132404', None, '303', Decimal('22'), Decimal('22'), 'Y', Decimal('5'), Decimal('5'), 'Y', Decimal('22'), Decimal('22'), 'Y', Decimal('3'), Decimal('3'), 'Y', '26375', '10', '0000026375', 'Open', datetime.date(2024, 8, 20)), (102, 527, '132404', None, '303', Decimal('10'), Decimal('10'), 'Y', Decimal('7'), Decimal('7'), 'Y', Decimal('10'), Decimal('10'), 'Y', Decimal('7'), Decimal('7'), 'Y', '29771', '10', '0000029771', 'Open', datetime.date(2024, 8, 20)), (102, 530, '132404', None, '303', Decimal('12'), Decimal('12'), 'Y', Decimal('8'), Decimal('8'), 'Y', Decimal('12'), Decimal('12'), 'Y', Decimal('8'), Decimal('8'), 'Y', '29831', '10', '0000029831', 'Open', datetime.date(2024, 8, 20)), (102, 531, '132404', None, '303', Decimal('12'), Decimal('12'), 'Y', Decimal('8'), Decimal('8'), 'Y', Decimal('12'), Decimal('12'), 'Y', Decimal('8'), Decimal('8'), 'Y', '29837', '10', '0000029837', 'Open', datetime.date(2024, 8, 20)), (102, 531, '132404', None, '303', Decimal('12'), Decimal('12'), 'Y', Decimal('8'), Decimal('8'), 'Y', Decimal('12'), Decimal('12'), 'Y', Decimal('8'), Decimal('6'), 'N', '29837', '10', '0000029837', 'Open', datetime.date(2024, 8, 20)), (102, 501, '132404', None, '303', Decimal('15'), Decimal('15'), 'Y', Decimal('12'), Decimal('12'), 'Y', Decimal('15'), Decimal('15'), 'Y', Decimal('9'), Decimal('9'), 'Y', '13222', '10', '0000013222', 'Open', datetime.date(2024, 8, 20)), (102, 507, '132404', None, '303', Decimal('15'), Decimal('15'), 'Y', Decimal('6'), Decimal('6'), 'Y', Decimal('15'), Decimal('15'), 'Y', Decimal('4'), Decimal('4'), 'Y', '194085', '10', '0000194085', 'Open', datetime.date(2024, 8, 20)), (102, 507, '132404', None, '303', Decimal('15'), Decimal('15'), 'Y', Decimal('6'), Decimal('6'), 'Y', Decimal('15'), Decimal('15'), 'Y', Decimal('4'), Decimal('5'), 'N', '194085', '10', '0000194085', 'Open', datetime.date(2024, 8, 20)), (102, 508, '132404', None, '303', Decimal('13'), Decimal('13'), 'Y', Decimal('6'), Decimal('6'), 'Y', Decimal('13'), Decimal('13'), 'Y', Decimal('6'), Decimal('6'), 'Y', '201018', '10', '0000201018', 'Open', datetime.date(2024, 8, 20)), (102, 508, '132404', None, '303', Decimal('13'), Decimal('13'), 'Y', Decimal('6'), Decimal('6'), 'Y', Decimal('13'), Decimal('13'), 'Y', Decimal('6'), Decimal('5'), 'N', '201018', '10', '0000201018', 'Open', datetime.date(2024, 8, 20)), (102, 510, '132404', None, '303', Decimal('13'), Decimal('13'), 'Y', Decimal('6'), Decimal('6'), 'Y', Decimal('13'), Decimal('13'), 'Y', Decimal('6'), Decimal('6'), 'Y', '201030', '10', '0000201030', 'Open', datetime.date(2024, 8, 20)), (102, 510, '132404', None, '303', Decimal('13'), Decimal('13'), 'Y', Decimal('6'), Decimal('6'), 'Y', Decimal('13'), Decimal('13'), 'Y', Decimal('6'), Decimal('5'), 'N', '201030', '10', '0000201030', 'Open', datetime.date(2024, 8, 20)), (102, 588, '132404', None, '303', Decimal('12'), Decimal('12'), 'Y', Decimal('3'), Decimal('3'), 'Y', Decimal('12'), Decimal('12'), 'Y', Decimal('3'), Decimal('3'), 'Y', '95443', '10', '0000095443', 'Open', datetime.date(2024, 8, 20)), (101, 554, '132907', None, '303', Decimal('15'), Decimal('15'), 'Y', Decimal('5'), Decimal('5'), 'Y', Decimal('15'), Decimal('15'), 'Y', Decimal('4'), Decimal('4'), 'Y', '449003', '10', '0000449003', 'Pre-Approved', datetime.date(2024, 8, 21)), (101, 584, '132907', None, '303', Decimal('21'), Decimal('21'), 'Y', Decimal('7'), Decimal('7'), 'Y', Decimal('21'), Decimal('21'), 'Y', Decimal('4'), Decimal('4'), 'Y', '89831', '10', '0000089831', 'Pre-Approved', datetime.date(2024, 8, 21))]\n"
     ]
    }
   ],
   "source": [
    "import psycopg2\n",
    "\n",
    "# Database connection parameters\n",
    "db_params = {\n",
    "    \"host\": \"gc-ue4-psql-cspo-dev01.nonprod.gcp.cswg.com\",\n",
    "    \"database\": \"CSPODB\",\n",
    "    \"port\": 5432,\n",
    "    \"user\": \"cspoms\",\n",
    "    \"password\": \"cspoms\",\n",
    "    \"sslmode\": \"verify-ca\",\n",
    "    \"sslcert\": \"C:\\\\Users\\\\DELL\\\\OneDrive\\\\Documents\\\\GitHub\\\\TPRelex\\\\RELEX-Y\\\\CSPOMS_DEV_Conn\\\\client-cert.pem\",\n",
    "    \"sslkey\": \"C:\\\\Users\\\\DELL\\\\OneDrive\\\\Documents\\\\GitHub\\\\TPRelex\\\\RELEX-Y\\\\CSPOMS_DEV_Conn\\\\client-key.pem\",\n",
    "    \"sslrootcert\": \"C:\\\\Users\\\\DELL\\\\OneDrive\\\\Documents\\\\GitHub\\\\TPRelex\\\\RELEX-Y\\\\CSPOMS_DEV_Conn\\\\server-ca.pem\"\n",
    "}\n",
    "\n",
    "try:\n",
    "    # Establishing the connection\n",
    "    post_conn = psycopg2.connect(**db_params)\n",
    "    \n",
    "    # Creating a cursor object using the connection\n",
    "    post_cur = post_conn.cursor()\n",
    "    \n",
    "    # Test the connection by executing a simple query\n",
    "    post_cur.execute('''\n",
    "select\n",
    "\tpoh.po_header_id,\n",
    "\tpol.pol_line_id ,\n",
    "\tpoh.po_num,\n",
    "\tpoh.po_date_ordered,\n",
    "\tpoh.act_ship_to_fac,\n",
    "    pol.POL_VENDOR_TI ,\n",
    "    im.VENDOR_TIE as VENDOR_TI,\n",
    "    CASE \n",
    "        WHEN pol.POL_VENDOR_TI = im.VENDOR_TIE THEN 'Y'\n",
    "        ELSE 'N'\n",
    "    END AS VENDOR_TI_CHECK,\n",
    "    pol.POL_VENDOR_HI,\n",
    "    im.VENDOR_TIER as VENDOR_HI,\n",
    "    CASE \n",
    "        WHEN pol.POL_VENDOR_HI = im.VENDOR_TIER THEN 'Y'\n",
    "        ELSE 'N'\n",
    "    END AS VENDOR_HI_CHECK,\n",
    "    pol.POL_WHSE_TI,\n",
    "    im.WHSE_TIE as WHSE_TI,\n",
    "    CASE \n",
    "        WHEN pol.POL_WHSE_TI = im.WHSE_TIE THEN 'Y'\n",
    "        ELSE 'N'\n",
    "    END AS WHSE_TI_CHECK,\n",
    "    pol.POL_WHSE_HI,\n",
    "    im.WHSE_TIER as WHSE_HI,\n",
    "    CASE \n",
    "        WHEN pol.POL_WHSE_HI = im.WHSE_TIER THEN 'Y'\n",
    "        ELSE 'N'\n",
    "    END AS WHSE_HI_CHECK\n",
    "    ,\n",
    "    pol.ssic,\n",
    "    pol.item_warehouse_code,\n",
    "    im.item_ssic,\n",
    "    poh.po_status,\n",
    "    poh.received_date\n",
    "--    pol.*,\n",
    "--    poh.*,\n",
    "FROM \n",
    "    XXPO_PO_HEADERS poh\n",
    "JOIN \n",
    "    XXPO_PO_LINES pol\n",
    "    ON pol.po_header_id = poh.po_header_id\n",
    "JOIN \n",
    "    XXPO_ITEM_MASTER im\n",
    "    ON LPAD(pol.ssic, 10, '0') = im.item_ssic\n",
    "WHERE \n",
    "    poh.RECEIVED_DATE IS NOT NULL\n",
    "    AND poh.PO_STATUS IN ('Open', 'Pre-Approved');\n",
    "''')\n",
    "    df = post_cur.fetchall()  # Output should be (1,)\n",
    "    print(df)\n",
    "except Exception as e:\n",
    "    print(f\"Error: {e}\")\n",
    "\n",
    "# finally:\n",
    "#     # Closing the cursor and connection\n",
    "#     if post_cur:\n",
    "#         post_cur.close()\n",
    "#     if post_conn:\n",
    "#         post_conn.close()\n"
   ]
  },
  {
   "cell_type": "code",
   "execution_count": 11,
   "id": "566088f5",
   "metadata": {},
   "outputs": [],
   "source": [
    "try:\n",
    "    update_query = '''\n",
    "        WITH records_to_update AS (\n",
    "            SELECT\n",
    "                pol.po_header_id,\n",
    "                pol.pol_line_id,\n",
    "                pol.pol_po_selection_fac,\n",
    "                im.VENDOR_TIE,\n",
    "                im.VENDOR_TIER,\n",
    "                im.WHSE_TIE,\n",
    "                im.WHSE_TIER,\n",
    "                pol.order_qty,\n",
    "                -- Calculating PALLET_QUANTITY and VEN_PALLET_QTY\n",
    "                pol.order_qty / (im.VENDOR_TIE * im.VENDOR_TIER) AS PALLET_QUANTITY,\n",
    "                pol.order_qty / (im.WHSE_TIE * im.WHSE_TIER) AS VEN_PALLET_QTY\n",
    "            FROM \n",
    "                XXPO_PO_HEADERS poh\n",
    "            JOIN \n",
    "                XXPO_PO_LINES pol ON pol.po_header_id = poh.po_header_id\n",
    "            JOIN \n",
    "                XXPO_ITEM_MASTER im ON LPAD(pol.ssic, 10, '0') = im.item_ssic\n",
    "            WHERE \n",
    "                poh.RECEIVED_DATE IS NOT NULL\n",
    "                AND im.facility_code = pol.pol_po_selection_fac\n",
    "                AND poh.PO_STATUS IN ('Open', 'Pre-Approved')\n",
    "                AND (\n",
    "                    pol.POL_VENDOR_TI <> im.VENDOR_TIE\n",
    "                    OR pol.POL_VENDOR_HI <> im.VENDOR_TIER\n",
    "                    OR pol.POL_WHSE_TI <> im.WHSE_TIE\n",
    "                    OR pol.POL_WHSE_HI <> im.WHSE_TIER\n",
    "                )\n",
    "        )\n",
    "        -- Now update the columns based on the CTE\n",
    "        UPDATE XXPO_PO_LINES pol\n",
    "        SET \n",
    "            POL_VENDOR_TI = rtu.VENDOR_TIE,\n",
    "            POL_VENDOR_HI = rtu.VENDOR_TIER,\n",
    "            POL_WHSE_TI = rtu.WHSE_TIE,\n",
    "            POL_WHSE_HI = rtu.WHSE_TIER,\n",
    "            PALLET_QUANTITY = rtu.PALLET_QUANTITY,\n",
    "            VEN_PALLET_QTY = rtu.VEN_PALLET_QTY\n",
    "        FROM \n",
    "            records_to_update rtu\n",
    "        WHERE \n",
    "            pol.po_header_id = rtu.po_header_id\n",
    "            AND pol.pol_line_id = rtu.pol_line_id\n",
    "            AND rtu.pol_po_selection_fac = pol.pol_po_selection_fac;\n",
    "    '''\n",
    "    post_cur.execute(update_query)\n",
    "    cnt = post_cur.rowcount\n",
    "    print(\"No of Records updated in XXPO_PO_LINES =\", cnt)\n",
    "\n",
    "except Exception as e:\n",
    "    print(f\"Error while updating the records: {e}\")\n",
    "\n",
    "# # Execute the query using post_cur\n",
    "# post_cur.execute(query)\n",
    "\n",
    "# # Commit the transaction to save changes\n",
    "# post_cur.connection.commit()\n"
   ]
  },
  {
   "cell_type": "code",
   "execution_count": 12,
   "id": "6accb115",
   "metadata": {},
   "outputs": [
    {
     "data": {
      "text/plain": [
       "4"
      ]
     },
     "execution_count": 12,
     "metadata": {},
     "output_type": "execute_result"
    }
   ],
   "source": [
    "update_count = post_cur.rowcount\n",
    "update_count"
   ]
  }
 ],
 "metadata": {
  "kernelspec": {
   "display_name": "Python 3 (ipykernel)",
   "language": "python",
   "name": "python3"
  },
  "language_info": {
   "codemirror_mode": {
    "name": "ipython",
    "version": 3
   },
   "file_extension": ".py",
   "mimetype": "text/x-python",
   "name": "python",
   "nbconvert_exporter": "python",
   "pygments_lexer": "ipython3",
   "version": "3.11.7"
  }
 },
 "nbformat": 4,
 "nbformat_minor": 5
}
