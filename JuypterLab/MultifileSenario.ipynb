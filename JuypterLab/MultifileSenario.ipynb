{
 "cells": [
  {
   "cell_type": "code",
   "execution_count": null,
   "id": "4eabdf3c",
   "metadata": {},
   "outputs": [],
   "source": [
    "YYYYMMDDHHMMSS\n",
    "20240202100044"
   ]
  },
  {
   "cell_type": "code",
   "execution_count": 11,
   "id": "9c35742c",
   "metadata": {},
   "outputs": [
    {
     "ename": "ValueError",
     "evalue": "time data '20240404100044' does not match format '%Y%m%d%H%M%S.%f'",
     "output_type": "error",
     "traceback": [
      "\u001b[1;31m---------------------------------------------------------------------------\u001b[0m",
      "\u001b[1;31mValueError\u001b[0m                                Traceback (most recent call last)",
      "Cell \u001b[1;32mIn[11], line 19\u001b[0m\n\u001b[0;32m     16\u001b[0m     \u001b[38;5;28;01mreturn\u001b[39;00m datetime\u001b[38;5;241m.\u001b[39mstrptime(timestamp_str, \u001b[38;5;124m'\u001b[39m\u001b[38;5;124m%\u001b[39m\u001b[38;5;124mY\u001b[39m\u001b[38;5;124m%\u001b[39m\u001b[38;5;124mm\u001b[39m\u001b[38;5;132;01m%d\u001b[39;00m\u001b[38;5;124m%\u001b[39m\u001b[38;5;124mH\u001b[39m\u001b[38;5;124m%\u001b[39m\u001b[38;5;124mM\u001b[39m\u001b[38;5;124m%\u001b[39m\u001b[38;5;124mS.\u001b[39m\u001b[38;5;132;01m%f\u001b[39;00m\u001b[38;5;124m'\u001b[39m)\n\u001b[0;32m     18\u001b[0m \u001b[38;5;66;03m# Sort the fileList based on the extracted timestamp\u001b[39;00m\n\u001b[1;32m---> 19\u001b[0m sorted_fileList \u001b[38;5;241m=\u001b[39m \u001b[38;5;28msorted\u001b[39m(fileList, key\u001b[38;5;241m=\u001b[39mextract_timestamp)\n\u001b[0;32m     21\u001b[0m \u001b[38;5;66;03m# Print sorted filenames\u001b[39;00m\n\u001b[0;32m     22\u001b[0m \u001b[38;5;28mprint\u001b[39m(\u001b[38;5;124m\"\u001b[39m\u001b[38;5;124mSorted fileList based on timestamp:\u001b[39m\u001b[38;5;124m\"\u001b[39m)\n",
      "Cell \u001b[1;32mIn[11], line 16\u001b[0m, in \u001b[0;36mextract_timestamp\u001b[1;34m(file_name)\u001b[0m\n\u001b[0;32m     13\u001b[0m \u001b[38;5;28;01mdef\u001b[39;00m \u001b[38;5;21mextract_timestamp\u001b[39m(file_name):\n\u001b[0;32m     14\u001b[0m     \u001b[38;5;66;03m# Extract the part after 'FUTRLIST.IN07.' and take the first 14 characters (YYYYMMDDHHMMSS)\u001b[39;00m\n\u001b[0;32m     15\u001b[0m     timestamp_str \u001b[38;5;241m=\u001b[39m file_name\u001b[38;5;241m.\u001b[39msplit(\u001b[38;5;124m'\u001b[39m\u001b[38;5;124mFUTRLIST.IN07.\u001b[39m\u001b[38;5;124m'\u001b[39m)[\u001b[38;5;241m1\u001b[39m][:\u001b[38;5;241m18\u001b[39m]\n\u001b[1;32m---> 16\u001b[0m     \u001b[38;5;28;01mreturn\u001b[39;00m datetime\u001b[38;5;241m.\u001b[39mstrptime(timestamp_str, \u001b[38;5;124m'\u001b[39m\u001b[38;5;124m%\u001b[39m\u001b[38;5;124mY\u001b[39m\u001b[38;5;124m%\u001b[39m\u001b[38;5;124mm\u001b[39m\u001b[38;5;132;01m%d\u001b[39;00m\u001b[38;5;124m%\u001b[39m\u001b[38;5;124mH\u001b[39m\u001b[38;5;124m%\u001b[39m\u001b[38;5;124mM\u001b[39m\u001b[38;5;124m%\u001b[39m\u001b[38;5;124mS.\u001b[39m\u001b[38;5;132;01m%f\u001b[39;00m\u001b[38;5;124m'\u001b[39m)\n",
      "File \u001b[1;32m~\\anaconda3\\Lib\\_strptime.py:568\u001b[0m, in \u001b[0;36m_strptime_datetime\u001b[1;34m(cls, data_string, format)\u001b[0m\n\u001b[0;32m    565\u001b[0m \u001b[38;5;28;01mdef\u001b[39;00m \u001b[38;5;21m_strptime_datetime\u001b[39m(\u001b[38;5;28mcls\u001b[39m, data_string, \u001b[38;5;28mformat\u001b[39m\u001b[38;5;241m=\u001b[39m\u001b[38;5;124m\"\u001b[39m\u001b[38;5;132;01m%a\u001b[39;00m\u001b[38;5;124m \u001b[39m\u001b[38;5;124m%\u001b[39m\u001b[38;5;124mb \u001b[39m\u001b[38;5;132;01m%d\u001b[39;00m\u001b[38;5;124m \u001b[39m\u001b[38;5;124m%\u001b[39m\u001b[38;5;124mH:\u001b[39m\u001b[38;5;124m%\u001b[39m\u001b[38;5;124mM:\u001b[39m\u001b[38;5;124m%\u001b[39m\u001b[38;5;124mS \u001b[39m\u001b[38;5;124m%\u001b[39m\u001b[38;5;124mY\u001b[39m\u001b[38;5;124m\"\u001b[39m):\n\u001b[0;32m    566\u001b[0m \u001b[38;5;250m    \u001b[39m\u001b[38;5;124;03m\"\"\"Return a class cls instance based on the input string and the\u001b[39;00m\n\u001b[0;32m    567\u001b[0m \u001b[38;5;124;03m    format string.\"\"\"\u001b[39;00m\n\u001b[1;32m--> 568\u001b[0m     tt, fraction, gmtoff_fraction \u001b[38;5;241m=\u001b[39m _strptime(data_string, \u001b[38;5;28mformat\u001b[39m)\n\u001b[0;32m    569\u001b[0m     tzname, gmtoff \u001b[38;5;241m=\u001b[39m tt[\u001b[38;5;241m-\u001b[39m\u001b[38;5;241m2\u001b[39m:]\n\u001b[0;32m    570\u001b[0m     args \u001b[38;5;241m=\u001b[39m tt[:\u001b[38;5;241m6\u001b[39m] \u001b[38;5;241m+\u001b[39m (fraction,)\n",
      "File \u001b[1;32m~\\anaconda3\\Lib\\_strptime.py:349\u001b[0m, in \u001b[0;36m_strptime\u001b[1;34m(data_string, format)\u001b[0m\n\u001b[0;32m    347\u001b[0m found \u001b[38;5;241m=\u001b[39m format_regex\u001b[38;5;241m.\u001b[39mmatch(data_string)\n\u001b[0;32m    348\u001b[0m \u001b[38;5;28;01mif\u001b[39;00m \u001b[38;5;129;01mnot\u001b[39;00m found:\n\u001b[1;32m--> 349\u001b[0m     \u001b[38;5;28;01mraise\u001b[39;00m \u001b[38;5;167;01mValueError\u001b[39;00m(\u001b[38;5;124m\"\u001b[39m\u001b[38;5;124mtime data \u001b[39m\u001b[38;5;132;01m%r\u001b[39;00m\u001b[38;5;124m does not match format \u001b[39m\u001b[38;5;132;01m%r\u001b[39;00m\u001b[38;5;124m\"\u001b[39m \u001b[38;5;241m%\u001b[39m\n\u001b[0;32m    350\u001b[0m                      (data_string, \u001b[38;5;28mformat\u001b[39m))\n\u001b[0;32m    351\u001b[0m \u001b[38;5;28;01mif\u001b[39;00m \u001b[38;5;28mlen\u001b[39m(data_string) \u001b[38;5;241m!=\u001b[39m found\u001b[38;5;241m.\u001b[39mend():\n\u001b[0;32m    352\u001b[0m     \u001b[38;5;28;01mraise\u001b[39;00m \u001b[38;5;167;01mValueError\u001b[39;00m(\u001b[38;5;124m\"\u001b[39m\u001b[38;5;124munconverted data remains: \u001b[39m\u001b[38;5;132;01m%s\u001b[39;00m\u001b[38;5;124m\"\u001b[39m \u001b[38;5;241m%\u001b[39m\n\u001b[0;32m    353\u001b[0m                       data_string[found\u001b[38;5;241m.\u001b[39mend():])\n",
      "\u001b[1;31mValueError\u001b[0m: time data '20240404100044' does not match format '%Y%m%d%H%M%S.%f'"
     ]
    }
   ],
   "source": [
    "from datetime import datetime\n",
    "\n",
    "# Given list of filenames\n",
    "fileList = [\n",
    "    'inbound/MFT/FUTRLIST.IN07.20240404100044', \n",
    "    'inbound/MFT/FUTRLIST.IN07.20240606090906537', \n",
    "    'inbound/MFT/FUTRLIST.IN07.20240606090906536', \n",
    "    'inbound/MFT/FUTRLIST.IN07.20240202100044', \n",
    "    'inbound/MFT/FUTRLIST.IN07.2024060610004'\n",
    "]\n",
    "\n",
    "# Function to extract timestamp and convert to datetime object\n",
    "def extract_timestamp(file_name):\n",
    "    # Extract the part after 'FUTRLIST.IN07.' and take the first 14 characters (YYYYMMDDHHMMSS)\n",
    "    timestamp_str = file_name.split('FUTRLIST.IN07.')[1][:18]\n",
    "    return datetime.strptime(timestamp_str, '%Y%m%d%H%M%S.%f')\n",
    "\n",
    "# Sort the fileList based on the extracted timestamp\n",
    "sorted_fileList = sorted(fileList, key=extract_timestamp)\n",
    "\n",
    "# Print sorted filenames\n",
    "print(\"Sorted fileList based on timestamp:\")\n",
    "for file in sorted_fileList:\n",
    "#     print('inbound/MFT/FUTRLIST.IN07.YYYYMMDDHHMMSS')\n",
    "    print(file)\n"
   ]
  },
  {
   "cell_type": "code",
   "execution_count": 15,
   "id": "44ca432f",
   "metadata": {},
   "outputs": [
    {
     "name": "stdout",
     "output_type": "stream",
     "text": [
      "['inbound/MFT/FUTRLIST.IN07.20240202100044', 'inbound/MFT/FUTRLIST.IN07.20240404100044', 'inbound/MFT/FUTRLIST.IN07.20240606090906536', 'inbound/MFT/FUTRLIST.IN07.20240606090906537', 'inbound/MFT/FUTRLIST.IN07.2024060610004']\n",
      "Sorted fileList based on timestamp:\n",
      "inbound/MFT/FUTRLIST.IN07.20240202100044\n",
      "inbound/MFT/FUTRLIST.IN07.20240404100044\n",
      "inbound/MFT/FUTRLIST.IN07.20240606090906536\n",
      "inbound/MFT/FUTRLIST.IN07.20240606090906537\n",
      "inbound/MFT/FUTRLIST.IN07.2024060610004\n"
     ]
    }
   ],
   "source": [
    "from datetime import datetime\n",
    "\n",
    "# Given list of filenames\n",
    "fileList = [\n",
    "    'inbound/MFT/FUTRLIST.IN07.2024060610004',\n",
    "    'inbound/MFT/FUTRLIST.IN07.20240404100044', \n",
    "    'inbound/MFT/FUTRLIST.IN07.20240606090906537', \n",
    "    'inbound/MFT/FUTRLIST.IN07.20240606090906536', \n",
    "    'inbound/MFT/FUTRLIST.IN07.20240202100044'\n",
    "    \n",
    "]\n",
    "\n",
    "# Function to extract timestamp and convert to datetime object\n",
    "def extract_timestamp(file_name):\n",
    "    # Extract the part after 'FUTRLIST.IN07.'\n",
    "    timestamp_str = file_name.split('FUTRLIST.IN07.')[1]\n",
    "    \n",
    "    # Ensure at least 6 digits for fractional seconds (microseconds)\n",
    "    fractional_part = (timestamp_str[14:] + '000000')[:6]\n",
    "    \n",
    "    # Combine base time with fractional part\n",
    "    full_time_str = timestamp_str[:14] + '.' + fractional_part\n",
    "    \n",
    "    # Parse the combined time string with up to microsecond precision\n",
    "    return datetime.strptime(full_time_str, '%Y%m%d%H%M%S.%f')\n",
    "\n",
    "# Sort the fileList based on the extracted timestamp\n",
    "sorted_fileList = sorted(fileList, key=extract_timestamp)\n",
    "print(sorted_fileList)\n",
    "# Print sorted filenames\n",
    "print(\"Sorted fileList based on timestamp:\")\n",
    "for file in sorted_fileList:\n",
    "    print(file)\n",
    "\n",
    "    "
   ]
  }
 ],
 "metadata": {
  "kernelspec": {
   "display_name": "Python 3 (ipykernel)",
   "language": "python",
   "name": "python3"
  },
  "language_info": {
   "codemirror_mode": {
    "name": "ipython",
    "version": 3
   },
   "file_extension": ".py",
   "mimetype": "text/x-python",
   "name": "python",
   "nbconvert_exporter": "python",
   "pygments_lexer": "ipython3",
   "version": "3.11.7"
  }
 },
 "nbformat": 4,
 "nbformat_minor": 5
}
