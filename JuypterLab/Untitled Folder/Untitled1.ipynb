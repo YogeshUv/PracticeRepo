{
 "cells": [
  {
   "cell_type": "code",
   "execution_count": null,
   "id": "bcdecc9a",
   "metadata": {},
   "outputs": [],
   "source": [
    "Input: nums = [2, 7, 11, 15], target = 9\n",
    "Output: [0, 1]\n",
    "Explanation: nums[0] + nums[1] = 2 + 7 = 9\n"
   ]
  },
  {
   "cell_type": "code",
   "execution_count": 19,
   "id": "df066979",
   "metadata": {},
   "outputs": [
    {
     "name": "stdout",
     "output_type": "stream",
     "text": [
      "each 0\n",
      "if 0\n",
      "each 1\n",
      "each 2\n",
      "each 3\n",
      "each 4\n",
      "each 5\n",
      "each 6\n",
      "each 7\n",
      "each 8\n",
      "each 9\n",
      "if 9\n",
      "each 10\n",
      "if 10\n",
      "each 11\n",
      "if 11\n"
     ]
    },
    {
     "data": {
      "text/plain": [
       "[0, 9, 10, 11]"
      ]
     },
     "execution_count": 19,
     "metadata": {},
     "output_type": "execute_result"
    }
   ],
   "source": [
    "nums = [1,344,565,776,777,71,7,75,54,5,4,2]\n",
    "target = 6\n",
    "look = []\n",
    "for i in range(len(nums)):\n",
    "    print('each',i)\n",
    "    if (target - nums[i]) in nums:\n",
    "        print('if',i)\n",
    "        look.append(i)\n",
    "look"
   ]
  },
  {
   "cell_type": "code",
   "execution_count": 11,
   "id": "23257998",
   "metadata": {},
   "outputs": [
    {
     "name": "stdout",
     "output_type": "stream",
     "text": [
      "1\n",
      "2\n",
      "7\n"
     ]
    }
   ],
   "source": [
    "abs = [1,2,344,565,776,777,7,7,75,54]\n",
    "for i in range(len(abs)):\n",
    "    if i in abs:\n",
    "        print(i)"
   ]
  }
 ],
 "metadata": {
  "kernelspec": {
   "display_name": "Python 3 (ipykernel)",
   "language": "python",
   "name": "python3"
  },
  "language_info": {
   "codemirror_mode": {
    "name": "ipython",
    "version": 3
   },
   "file_extension": ".py",
   "mimetype": "text/x-python",
   "name": "python",
   "nbconvert_exporter": "python",
   "pygments_lexer": "ipython3",
   "version": "3.11.7"
  }
 },
 "nbformat": 4,
 "nbformat_minor": 5
}
