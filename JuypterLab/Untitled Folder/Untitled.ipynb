{
 "cells": [
  {
   "cell_type": "markdown",
   "id": "4cd04b04",
   "metadata": {},
   "source": [
    "# Array and List Practice Questions"
   ]
  },
  {
   "cell_type": "code",
   "execution_count": 11,
   "id": "4998ba36",
   "metadata": {},
   "outputs": [
    {
     "name": "stdout",
     "output_type": "stream",
     "text": [
      "1\n"
     ]
    },
    {
     "data": {
      "text/plain": [
       "9"
      ]
     },
     "execution_count": 11,
     "metadata": {},
     "output_type": "execute_result"
    }
   ],
   "source": [
    "# Find the largest element in an array.\n",
    "arr = [1,4,2,6,7,9,3,2,1]\n",
    "max_arr = arr[0]\n",
    "print(max_arr)\n",
    "for i in range(len(arr)):\n",
    "    if arr[i] > max_arr:\n",
    "        max_arr = arr[i]\n",
    "max_arr"
   ]
  },
  {
   "cell_type": "code",
   "execution_count": 12,
   "id": "42f6a331",
   "metadata": {},
   "outputs": [
    {
     "data": {
      "text/plain": [
       "9"
      ]
     },
     "execution_count": 12,
     "metadata": {},
     "output_type": "execute_result"
    }
   ],
   "source": [
    "# Find the largest element in an array.\n",
    "arr = [1,4,2,6,7,9,3,2,1]\n",
    "largest = arr[0]\n",
    "for num in arr:\n",
    "    if num > largest:\n",
    "        largest = num\n",
    "largest"
   ]
  },
  {
   "cell_type": "code",
   "execution_count": 13,
   "id": "fe72c36a",
   "metadata": {},
   "outputs": [
    {
     "data": {
      "text/plain": [
       "1"
      ]
     },
     "execution_count": 13,
     "metadata": {},
     "output_type": "execute_result"
    }
   ],
   "source": [
    "# Find the smallest element in an array.\n",
    "smallest = arr[0]\n",
    "for num in arr:\n",
    "    if smallest > num:\n",
    "        smallest = num\n",
    "smallest"
   ]
  },
  {
   "cell_type": "code",
   "execution_count": 22,
   "id": "7737e75b",
   "metadata": {},
   "outputs": [
    {
     "data": {
      "text/plain": [
       "[1, 2, 3, 9, 7, 6, 2, 4, 1]"
      ]
     },
     "execution_count": 22,
     "metadata": {},
     "output_type": "execute_result"
    }
   ],
   "source": [
    "# Reverse an array.\n",
    "rev_arr = []\n",
    "for i in range(len(arr)):\n",
    "    rev_arr.append(arr[len(arr)-1-i])\n",
    "rev_arr"
   ]
  },
  {
   "cell_type": "code",
   "execution_count": null,
   "id": "076f21c9",
   "metadata": {},
   "outputs": [],
   "source": [
    "# Find the sum of all elements in an array."
   ]
  },
  {
   "cell_type": "code",
   "execution_count": null,
   "id": "eb699276",
   "metadata": {},
   "outputs": [],
   "source": [
    "# Find the average of all elements in an array."
   ]
  },
  {
   "cell_type": "code",
   "execution_count": null,
   "id": "345d855f",
   "metadata": {},
   "outputs": [],
   "source": [
    "# Find the maximum and minimum elements in an array."
   ]
  },
  {
   "cell_type": "code",
   "execution_count": null,
   "id": "44b87283",
   "metadata": {},
   "outputs": [],
   "source": [
    "# Count the occurrences of a specific element in an array."
   ]
  },
  {
   "cell_type": "code",
   "execution_count": null,
   "id": "9048bf37",
   "metadata": {},
   "outputs": [],
   "source": [
    "Check if an array is sorted in ascending order.\n",
    "Find the second largest element in an array.\n",
    "Remove duplicates from an array.\n",
    "Rotate an array by one position.\n",
    "Rotate an array by k positions.\n",
    "Find the sum of all even numbers in an array.\n",
    "Find the sum of all odd numbers in an array.\n",
    "Merge two sorted arrays.\n",
    "Sort an array of 0s, 1s, and 2s (Dutch National Flag problem).\n",
    "Find the intersection of two arrays.\n",
    "Find the union of two arrays.\n",
    "Remove all even numbers from an array.\n",
    "Count the number of even and odd elements in an array.\n",
    "Find the product of all elements in an array.\n",
    "Find the common elements in three sorted arrays.\n",
    "Check if two arrays are equal.\n",
    "Find the kth smallest element in an array.\n",
    "Find the kth largest element in an array.\n",
    "Find the missing number in a range.\n",
    "Find all pairs with a given sum.\n",
    "Move all zeroes to the end of an array.\n",
    "Move all zeroes to the start of an array.\n",
    "Find the frequency of each element in an array.\n",
    "Find the longest consecutive sequence in an array.\n",
    "Find the majority element in an array.\n",
    "Find the two elements with the smallest difference.\n",
    "Find the two elements with the largest difference.\n",
    "Split an array into two parts with equal sum.\n",
    "Find the maximum subarray sum (Kadane’s Algorithm).\n",
    "Find the number of subarrays with a given sum.\n",
    "Replace each element with the greatest element on the right.\n",
    "Replace each element with the smallest element on the left.\n",
    "Check if an array contains a duplicate.\n",
    "Find the longest increasing subarray.\n",
    "Check if an array is a palindrome.\n",
    "Rotate an array to the left by k steps.\n",
    "Rotate an array to the right by k steps.\n",
    "Find the missing elements in a sequence.\n",
    "Find the first repeating element in an array.\n",
    "Find the first non-repeating element in an array.\n",
    "Find the most frequent element in an array.\n",
    "Check if an array is a subset of another array.\n",
    "Find the smallest positive missing number in an array.\n",
    "Convert an array into a Zig-Zag pattern.\n",
    "Merge overlapping intervals in an array.\n",
    "Find all unique triplets with zero sum.\n",
    "Find all unique quadruplets with zero sum.\n",
    "Find the minimum number of operations to make all elements equal.\n",
    "Rearrange an array in alternating positive and negative numbers.\n",
    "Find the kth largest element in a stream.\n",
    "Find the kth smallest element in a stream.\n",
    "Find the minimum element in a rotated sorted array.\n",
    "Find the maximum product subarray.\n",
    "Find all combinations in an array that sum to a given value.\n",
    "Check if an array is monotonic.\n",
    "Find the minimum difference between any two elements.\n",
    "Find the median of an array.\n",
    "Convert a list of strings into a single string.\n",
    "Find the cumulative sum of an array.\n",
    "Replace each element with its rank in the array.\n",
    "Check if an array can be divided into pairs with equal sum.\n",
    "Find the smallest pair sum in an array.\n",
    "Find the largest pair sum in an array.\n",
    "Check if an array can be partitioned into two subsets with equal sum.\n",
    "Find the nearest greater element for each element in an array.\n",
    "Find the nearest smaller element for each element in an array.\n",
    "Find the length of the smallest subarray with a given sum.\n",
    "Find the number of distinct elements in every subarray of size k.\n",
    "Find the maximum element in each subarray of size k.\n",
    "Find the minimum element in each subarray of size k.\n",
    "Check if an array can be arranged into a palindrome.\n",
    "Find the sum of minimum elements in all subarrays.\n",
    "Find the sum of maximum elements in all subarrays.\n",
    "Reverse each subarray of size k.\n",
    "Find all subsequences of an array.\n",
    "Find all subarrays of an array.\n",
    "Count the number of pairs with a given difference.\n",
    "Find the subarray with the maximum average.\n",
    "Find the subarray with the minimum average.\n",
    "Find the product of each subarray of size k.\n",
    "Find the longest subarray with a given sum.\n",
    "Find the smallest subarray with a given sum.\n",
    "Find all pairs with a given product.\n",
    "Find the maximum difference between two elements in an array.\n",
    "Find the minimum difference between two elements in an array.\n",
    "Find all subarrays with a sum equal to zero.\n",
    "Check if an array is a rotation of another array.\n",
    "Find the first and last occurrences of an element in an array.\n",
    "Find the number of times a sorted array is rotated.\n",
    "Find the median of two sorted arrays.\n",
    "Find the maximum element in each row of a matrix.\n",
    "Find the minimum element in each column of a matrix.\n",
    "Check if a 2D array is symmetric."
   ]
  },
  {
   "cell_type": "code",
   "execution_count": null,
   "id": "6f521d4f",
   "metadata": {},
   "outputs": [],
   "source": []
  }
 ],
 "metadata": {
  "kernelspec": {
   "display_name": "Python 3 (ipykernel)",
   "language": "python",
   "name": "python3"
  },
  "language_info": {
   "codemirror_mode": {
    "name": "ipython",
    "version": 3
   },
   "file_extension": ".py",
   "mimetype": "text/x-python",
   "name": "python",
   "nbconvert_exporter": "python",
   "pygments_lexer": "ipython3",
   "version": "3.11.7"
  }
 },
 "nbformat": 4,
 "nbformat_minor": 5
}
