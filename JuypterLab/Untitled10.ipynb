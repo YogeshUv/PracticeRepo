{
 "cells": [
  {
   "cell_type": "code",
   "execution_count": 13,
   "id": "62db24a3",
   "metadata": {},
   "outputs": [],
   "source": [
    "import pandas as pd\n",
    "import os\n",
    "from datetime import datetime\n",
    "from pytz import timezone\n",
    "import numpy as np\n",
    "import logging\n",
    "logging.basicConfig(level=logging.INFO)\n",
    "logger = logging.getLogger(__name__)\n",
    "\n",
    "def read_file_from_local(file_name):\n",
    "    local_path = os.path.join(os.getcwd(), file_name)  # Adjust as needed for your file location\n",
    "    print(f\"Reading file from: {local_path}\")\n",
    "    \n",
    "    column_specs = [\n",
    "        (0, 3),    # Facility\n",
    "        (3, 9),   # item_number\n",
    "        (9, 17),   # warehouse_item\n",
    "        (17, 24),   # rate amount \n",
    "    ]\n",
    "    \n",
    "    column_names = [\n",
    "        'item_facility',\n",
    "        'item_number',\n",
    "        'warehouse_item',\n",
    "        'rate_amount'\n",
    "    ]\n",
    "    \n",
    "    # Read file as fixed-width formatted\n",
    "    df = pd.read_fwf(local_path, colspecs=column_specs, names=column_names)\n",
    "    return process_dataframe(df)  # Replace with self.process_dataframe(df) if necessary\n",
    "est = timezone(\"US/Eastern\")\n",
    "sysdate = datetime.now(est).strftime('%Y-%m-%d %H:%M:%S')\n",
    "\n",
    "def process_dataframe(df):\n",
    "    try:\n",
    "        df = df.fillna('').replace({'NaT': None, np.nan: ''}, regex=True)\n",
    "        df['request_id'] = 777\n",
    "        df['creation_date'] = df['last_update_date'] = pd.to_datetime(sysdate)\n",
    "        df['created_by'] = df['last_updated_by'] = 'CSPOMS'\n",
    "        #df['process_status'] = 'N'\n",
    "        logger.info(df.head())\n",
    "        logger.info(df.shape)\n",
    "        return df\n",
    "    except Exception as e:\n",
    "        logger.error(f\"Error while processing the data: {e}\")"
   ]
  },
  {
   "cell_type": "code",
   "execution_count": 14,
   "id": "22857e49",
   "metadata": {},
   "outputs": [
    {
     "name": "stderr",
     "output_type": "stream",
     "text": [
      "INFO:__main__:   item_facility  item_number  warehouse_item  rate_amount  request_id  \\\n",
      "0             18           29          505486        10100         777   \n",
      "1             19           29          369193        10100         777   \n",
      "2             24           29          369248        10100         777   \n",
      "3             36           29             135        10100         777   \n",
      "4             43           29          369191        10100         777   \n",
      "\n",
      "        creation_date    last_update_date created_by last_updated_by  \n",
      "0 2024-12-06 04:49:56 2024-12-06 04:49:56     CSPOMS          CSPOMS  \n",
      "1 2024-12-06 04:49:56 2024-12-06 04:49:56     CSPOMS          CSPOMS  \n",
      "2 2024-12-06 04:49:56 2024-12-06 04:49:56     CSPOMS          CSPOMS  \n",
      "3 2024-12-06 04:49:56 2024-12-06 04:49:56     CSPOMS          CSPOMS  \n",
      "4 2024-12-06 04:49:56 2024-12-06 04:49:56     CSPOMS          CSPOMS  \n",
      "INFO:__main__:(13, 9)\n"
     ]
    },
    {
     "name": "stdout",
     "output_type": "stream",
     "text": [
      "Reading file from: C:\\Users\\DELL\\JuypterLab\\SWELLRATE.IN130.20241206.txt\n",
      "    item_facility  item_number  warehouse_item  rate_amount  request_id  \\\n",
      "0              18           29          505486        10100         777   \n",
      "1              19           29          369193        10100         777   \n",
      "2              24           29          369248        10100         777   \n",
      "3              36           29             135        10100         777   \n",
      "4              43           29          369191        10100         777   \n",
      "5              46           29          103869        10100         777   \n",
      "6              67           29             228        10100         777   \n",
      "7              77           29          227481        10100         777   \n",
      "8              84           29          369192        10100         777   \n",
      "9              92           29          369236        10100         777   \n",
      "10             96           29             913        10100         777   \n",
      "11             28           47          445623            0         777   \n",
      "12             46           47          370112            0         777   \n",
      "\n",
      "         creation_date    last_update_date created_by last_updated_by  \n",
      "0  2024-12-06 04:49:56 2024-12-06 04:49:56     CSPOMS          CSPOMS  \n",
      "1  2024-12-06 04:49:56 2024-12-06 04:49:56     CSPOMS          CSPOMS  \n",
      "2  2024-12-06 04:49:56 2024-12-06 04:49:56     CSPOMS          CSPOMS  \n",
      "3  2024-12-06 04:49:56 2024-12-06 04:49:56     CSPOMS          CSPOMS  \n",
      "4  2024-12-06 04:49:56 2024-12-06 04:49:56     CSPOMS          CSPOMS  \n",
      "5  2024-12-06 04:49:56 2024-12-06 04:49:56     CSPOMS          CSPOMS  \n",
      "6  2024-12-06 04:49:56 2024-12-06 04:49:56     CSPOMS          CSPOMS  \n",
      "7  2024-12-06 04:49:56 2024-12-06 04:49:56     CSPOMS          CSPOMS  \n",
      "8  2024-12-06 04:49:56 2024-12-06 04:49:56     CSPOMS          CSPOMS  \n",
      "9  2024-12-06 04:49:56 2024-12-06 04:49:56     CSPOMS          CSPOMS  \n",
      "10 2024-12-06 04:49:56 2024-12-06 04:49:56     CSPOMS          CSPOMS  \n",
      "11 2024-12-06 04:49:56 2024-12-06 04:49:56     CSPOMS          CSPOMS  \n",
      "12 2024-12-06 04:49:56 2024-12-06 04:49:56     CSPOMS          CSPOMS  \n"
     ]
    }
   ],
   "source": [
    "# Assuming the class is instantiated as `obj`\n",
    "result_df = read_file_from_local('SWELLRATE.IN130.20241206.txt')\n",
    "\n",
    "# Display the dataframe\n",
    "print(result_df)\n"
   ]
  }
 ],
 "metadata": {
  "kernelspec": {
   "display_name": "Python 3 (ipykernel)",
   "language": "python",
   "name": "python3"
  },
  "language_info": {
   "codemirror_mode": {
    "name": "ipython",
    "version": 3
   },
   "file_extension": ".py",
   "mimetype": "text/x-python",
   "name": "python",
   "nbconvert_exporter": "python",
   "pygments_lexer": "ipython3",
   "version": "3.11.7"
  }
 },
 "nbformat": 4,
 "nbformat_minor": 5
}
