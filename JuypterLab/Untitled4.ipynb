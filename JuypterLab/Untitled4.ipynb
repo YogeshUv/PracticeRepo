{
 "cells": [
  {
   "cell_type": "code",
   "execution_count": 8,
   "id": "9e077eee",
   "metadata": {},
   "outputs": [],
   "source": [
    "import pandas as pd\n",
    "import xml.etree.ElementTree as ET\n",
    "import psycopg2\n",
    "from datetime import datetime\n",
    "import re\n",
    "import pytz\n",
    "from psycopg2.extras import execute_batch\n",
    "\n",
    "# Database connection parameters\n",
    "db_params = {\n",
    "    \"host\": \"gc-ue4-psql-cspo-dev01.nonprod.gcp.cswg.com\",\n",
    "    \"database\": \"CSPODB\",\n",
    "    \"port\": 5432,\n",
    "    \"user\": \"cspoms\",\n",
    "    \"password\": \"cspoms\",\n",
    "    \"sslmode\": \"verify-ca\",\n",
    "    \"sslcert\": \"C:\\\\Users\\\\DELL\\\\OneDrive\\\\Documents\\\\GitHub\\\\TPRelex\\\\RELEX-Y\\\\CSPOMS_DEV_Conn\\\\client-cert.pem\",\n",
    "    \"sslkey\": \"C:\\\\Users\\\\DELL\\\\OneDrive\\\\Documents\\\\GitHub\\\\TPRelex\\\\RELEX-Y\\\\CSPOMS_DEV_Conn\\\\client-key.pem\",\n",
    "    \"sslrootcert\": \"C:\\\\Users\\\\DELL\\\\OneDrive\\\\Documents\\\\GitHub\\\\TPRelex\\\\RELEX-Y\\\\CSPOMS_DEV_Conn\\\\server-ca.pem\"\n",
    "}\n",
    "\n",
    "post_conn = psycopg2.connect(**db_params)\n",
    "post_cur = post_conn.cursor()\n"
   ]
  },
  {
   "cell_type": "code",
   "execution_count": 14,
   "id": "e90006b0",
   "metadata": {},
   "outputs": [
    {
     "name": "stderr",
     "output_type": "stream",
     "text": [
      "C:\\Users\\DELL\\AppData\\Local\\Temp\\ipykernel_30288\\523060541.py:5: UserWarning: pandas only supports SQLAlchemy connectable (engine/connection) or database string URI or sqlite3 DBAPI2 connection. Other DBAPI2 objects are not tested. Please consider using SQLAlchemy.\n",
      "  df = pd.read_sql_query(select_query,post_conn)\n"
     ]
    },
    {
     "data": {
      "text/html": [
       "<div>\n",
       "<style scoped>\n",
       "    .dataframe tbody tr th:only-of-type {\n",
       "        vertical-align: middle;\n",
       "    }\n",
       "\n",
       "    .dataframe tbody tr th {\n",
       "        vertical-align: top;\n",
       "    }\n",
       "\n",
       "    .dataframe thead th {\n",
       "        text-align: right;\n",
       "    }\n",
       "</style>\n",
       "<table border=\"1\" class=\"dataframe\">\n",
       "  <thead>\n",
       "    <tr style=\"text-align: right;\">\n",
       "      <th></th>\n",
       "      <th>po_header_id</th>\n",
       "      <th>vendor_id</th>\n",
       "      <th>recommended_order</th>\n",
       "      <th>po_num</th>\n",
       "      <th>secondary_po_num</th>\n",
       "      <th>external_po_num</th>\n",
       "      <th>relex_po_num</th>\n",
       "      <th>po_type</th>\n",
       "      <th>po_diverted_flag</th>\n",
       "      <th>po_transfer_flag</th>\n",
       "      <th>...</th>\n",
       "      <th>attribute15</th>\n",
       "      <th>created_by</th>\n",
       "      <th>creation_date</th>\n",
       "      <th>last_updated_by</th>\n",
       "      <th>last_update_date</th>\n",
       "      <th>last_update_login</th>\n",
       "      <th>request_id</th>\n",
       "      <th>batch_id</th>\n",
       "      <th>POLINESDETAILS</th>\n",
       "      <th>PODETAILS</th>\n",
       "    </tr>\n",
       "  </thead>\n",
       "  <tbody>\n",
       "    <tr>\n",
       "      <th>0</th>\n",
       "      <td>101</td>\n",
       "      <td>None</td>\n",
       "      <td>None</td>\n",
       "      <td>132907</td>\n",
       "      <td>None</td>\n",
       "      <td>None</td>\n",
       "      <td>None</td>\n",
       "      <td>TS</td>\n",
       "      <td>None</td>\n",
       "      <td>None</td>\n",
       "      <td>...</td>\n",
       "      <td>None</td>\n",
       "      <td>None</td>\n",
       "      <td>2024-08-05</td>\n",
       "      <td>CSPOMS</td>\n",
       "      <td>2024-08-20</td>\n",
       "      <td>None</td>\n",
       "      <td>11290</td>\n",
       "      <td>None</td>\n",
       "      <td>None</td>\n",
       "      <td>None</td>\n",
       "    </tr>\n",
       "    <tr>\n",
       "      <th>1</th>\n",
       "      <td>102</td>\n",
       "      <td>None</td>\n",
       "      <td>None</td>\n",
       "      <td>132404</td>\n",
       "      <td>None</td>\n",
       "      <td>None</td>\n",
       "      <td>None</td>\n",
       "      <td>None</td>\n",
       "      <td>None</td>\n",
       "      <td>None</td>\n",
       "      <td>...</td>\n",
       "      <td>None</td>\n",
       "      <td>None</td>\n",
       "      <td>2024-08-05</td>\n",
       "      <td>dvantedd@cswg.com</td>\n",
       "      <td>2024-08-12</td>\n",
       "      <td>None</td>\n",
       "      <td>10496</td>\n",
       "      <td>None</td>\n",
       "      <td>None</td>\n",
       "      <td>None</td>\n",
       "    </tr>\n",
       "  </tbody>\n",
       "</table>\n",
       "<p>2 rows × 110 columns</p>\n",
       "</div>"
      ],
      "text/plain": [
       "   po_header_id vendor_id recommended_order  po_num secondary_po_num  \\\n",
       "0           101      None              None  132907             None   \n",
       "1           102      None              None  132404             None   \n",
       "\n",
       "  external_po_num relex_po_num po_type po_diverted_flag po_transfer_flag  ...  \\\n",
       "0            None         None      TS             None             None  ...   \n",
       "1            None         None    None             None             None  ...   \n",
       "\n",
       "  attribute15 created_by creation_date    last_updated_by last_update_date  \\\n",
       "0        None       None    2024-08-05             CSPOMS       2024-08-20   \n",
       "1        None       None    2024-08-05  dvantedd@cswg.com       2024-08-12   \n",
       "\n",
       "  last_update_login request_id batch_id POLINESDETAILS PODETAILS  \n",
       "0              None      11290     None           None      None  \n",
       "1              None      10496     None           None      None  \n",
       "\n",
       "[2 rows x 110 columns]"
      ]
     },
     "execution_count": 14,
     "metadata": {},
     "output_type": "execute_result"
    }
   ],
   "source": [
    "select_query = '''select * from XXPO_PO_HEADERS where \n",
    "RECEIVED_DATE is not null AND\n",
    "PO_STATUS in ('Open', 'Pre-Approved')'''\n",
    "# post_cur.execute(select_query)\n",
    "df = pd.read_sql_query(select_query,post_conn)\n",
    "df"
   ]
  },
  {
   "cell_type": "code",
   "execution_count": 9,
   "id": "e42250b7",
   "metadata": {},
   "outputs": [
    {
     "data": {
      "text/plain": [
       "4"
      ]
     },
     "execution_count": 9,
     "metadata": {},
     "output_type": "execute_result"
    }
   ],
   "source": []
  }
 ],
 "metadata": {
  "kernelspec": {
   "display_name": "Python 3 (ipykernel)",
   "language": "python",
   "name": "python3"
  },
  "language_info": {
   "codemirror_mode": {
    "name": "ipython",
    "version": 3
   },
   "file_extension": ".py",
   "mimetype": "text/x-python",
   "name": "python",
   "nbconvert_exporter": "python",
   "pygments_lexer": "ipython3",
   "version": "3.11.7"
  }
 },
 "nbformat": 4,
 "nbformat_minor": 5
}
