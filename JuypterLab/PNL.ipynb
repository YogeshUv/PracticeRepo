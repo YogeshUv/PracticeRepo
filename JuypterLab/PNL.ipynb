{
 "cells": [
  {
   "cell_type": "code",
   "execution_count": 6,
   "id": "88c9f7e4",
   "metadata": {},
   "outputs": [
    {
     "data": {
      "text/plain": [
       "'C:/Users/DELL/Downloads/Parameterized_Capital_Calculator_Colored.xlsx'"
      ]
     },
     "execution_count": 6,
     "metadata": {},
     "output_type": "execute_result"
    }
   ],
   "source": [
    "import openpyxl  # Ensure openpyxl is imported\n",
    "\n",
    "from openpyxl.chart import BarChart, PieChart, Reference\n",
    "from openpyxl.styles import PatternFill\n",
    "\n",
    "# Load the existing workbook and select the active sheet\n",
    "# C:\\Users\\DELL\\Downloads\\Parameterized_Capital_Calculator_Adjustable.xlsx\n",
    "wb = openpyxl.load_workbook('C:/Users/DELL/Downloads/Parameterized_Capital_Calculator_Adjustable.xlsx')\n",
    "ws = wb.active\n",
    "\n",
    "# Apply colors to the rows\n",
    "header_fill = PatternFill(start_color=\"FFFF99\", end_color=\"FFFF99\", fill_type=\"solid\")\n",
    "for cell in ws[\"A8:C8\"]:  # Header row color\n",
    "    for c in cell:\n",
    "        c.fill = header_fill\n",
    "\n",
    "# Fill for the data rows\n",
    "data_fill = PatternFill(start_color=\"CCFFFF\", end_color=\"CCFFFF\", fill_type=\"solid\")\n",
    "for row in ws.iter_rows(min_row=9, max_row=38, min_col=1, max_col=3):\n",
    "    for cell in row:\n",
    "        cell.fill = data_fill\n",
    "\n",
    "# Create a bar chart for daily profit/loss\n",
    "bar_chart = BarChart()\n",
    "bar_chart.title = \"Daily Profit/Loss\"\n",
    "bar_chart.y_axis.title = \"Amount\"\n",
    "bar_chart.x_axis.title = \"Day\"\n",
    "\n",
    "# Reference for the bar chart data\n",
    "data = Reference(ws, min_col=2, min_row=9, max_row=38)\n",
    "categories = Reference(ws, min_col=1, min_row=9, max_row=38)\n",
    "bar_chart.add_data(data, titles_from_data=False)\n",
    "bar_chart.set_categories(categories)\n",
    "\n",
    "# Position the bar chart\n",
    "ws.add_chart(bar_chart, \"E8\")\n",
    "\n",
    "# Create a pie chart for win/loss ratio\n",
    "pie_chart = PieChart()\n",
    "pie_chart.title = \"Win/Loss Distribution\"\n",
    "\n",
    "# Calculate win/loss values\n",
    "ws[\"D9\"] = \"=COUNTIF(B9:B38, \\\">0\\\")\"\n",
    "ws[\"E9\"] = \"=COUNTIF(B9:B38, \\\"<0\\\")\"\n",
    "ws[\"D8\"] = \"Wins\"\n",
    "ws[\"E8\"] = \"Losses\"\n",
    "\n",
    "# Reference for pie chart data\n",
    "pie_data = Reference(ws, min_col=4, min_row=8, max_row=8)\n",
    "pie_labels = Reference(ws, min_col=4, min_row=8, max_row=9)\n",
    "pie_chart.add_data(pie_data, titles_from_data=True)\n",
    "pie_chart.set_categories(pie_labels)\n",
    "\n",
    "# Position the pie chart\n",
    "ws.add_chart(pie_chart, \"E20\")\n",
    "\n",
    "# Save the updated workbook\n",
    "excel_path_colored = 'C:/Users/DELL/Downloads/Parameterized_Capital_Calculator_Colored.xlsx'\n",
    "wb.save(excel_path_colored)\n",
    "\n",
    "excel_path_colored\n"
   ]
  },
  {
   "cell_type": "code",
   "execution_count": 3,
   "id": "aeb173ae",
   "metadata": {},
   "outputs": [
    {
     "name": "stdout",
     "output_type": "stream",
     "text": [
      "Requirement already satisfied: openpyxl in c:\\users\\dell\\anaconda3\\lib\\site-packages (3.0.10)\n",
      "Requirement already satisfied: et_xmlfile in c:\\users\\dell\\anaconda3\\lib\\site-packages (from openpyxl) (1.1.0)\n",
      "Note: you may need to restart the kernel to use updated packages.\n"
     ]
    }
   ],
   "source": [
    "pip install openpyxl"
   ]
  }
 ],
 "metadata": {
  "kernelspec": {
   "display_name": "Python 3 (ipykernel)",
   "language": "python",
   "name": "python3"
  },
  "language_info": {
   "codemirror_mode": {
    "name": "ipython",
    "version": 3
   },
   "file_extension": ".py",
   "mimetype": "text/x-python",
   "name": "python",
   "nbconvert_exporter": "python",
   "pygments_lexer": "ipython3",
   "version": "3.11.7"
  }
 },
 "nbformat": 4,
 "nbformat_minor": 5
}
