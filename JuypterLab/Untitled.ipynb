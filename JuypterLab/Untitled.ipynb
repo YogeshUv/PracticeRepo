{
 "cells": [
  {
   "cell_type": "code",
   "execution_count": 7,
   "id": "39d31981",
   "metadata": {},
   "outputs": [
    {
     "name": "stdout",
     "output_type": "stream",
     "text": [
      "0 7\n",
      "[]\n",
      "1 3\n",
      "[7]\n",
      "2 4\n",
      "[7, 3]\n",
      "3 3\n",
      "4 5\n",
      "[7, 3, 4, 3]\n",
      "5 6\n",
      "[7, 3, 4, 3, 5]\n",
      "6 2\n",
      "[7, 3, 4, 3, 5, 6]\n",
      "7 4\n",
      "8 7\n"
     ]
    }
   ],
   "source": [
    "lst = [7,3,4,3,5,6,2,4,7]\n",
    "# a = [x \n",
    "for i,x in enumerate(lst):\n",
    "    print(i,x)\n",
    "    if x not in lst[:i]:\n",
    "        print(lst[:i])\n"
   ]
  }
 ],
 "metadata": {
  "kernelspec": {
   "display_name": "Python 3 (ipykernel)",
   "language": "python",
   "name": "python3"
  },
  "language_info": {
   "codemirror_mode": {
    "name": "ipython",
    "version": 3
   },
   "file_extension": ".py",
   "mimetype": "text/x-python",
   "name": "python",
   "nbconvert_exporter": "python",
   "pygments_lexer": "ipython3",
   "version": "3.11.7"
  }
 },
 "nbformat": 4,
 "nbformat_minor": 5
}
