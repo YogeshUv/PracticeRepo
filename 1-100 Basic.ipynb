{
 "cells": [
  {
   "cell_type": "code",
   "id": "initial_id",
   "metadata": {
    "collapsed": true,
    "ExecuteTime": {
     "end_time": "2024-06-03T16:17:32.628127Z",
     "start_time": "2024-06-03T16:17:32.595304Z"
    }
   },
   "source": "print('hello')",
   "outputs": [
    {
     "name": "stdout",
     "output_type": "stream",
     "text": [
      "hello\n"
     ]
    }
   ],
   "execution_count": 1
  },
  {
   "metadata": {},
   "cell_type": "code",
   "outputs": [],
   "execution_count": null,
   "source": "",
   "id": "6b386d688f1b7ed1"
  },
  {
   "metadata": {
    "ExecuteTime": {
     "end_time": "2024-06-03T16:18:57.045528Z",
     "start_time": "2024-06-03T16:18:57.033981Z"
    }
   },
   "cell_type": "code",
   "source": [
    "a = 5\n",
    "b = 10\n",
    "if a > b:\n",
    "    print(a)\n",
    "else:\n",
    "    print(b)"
   ],
   "id": "e705af0a0cb55ecd",
   "outputs": [
    {
     "name": "stdout",
     "output_type": "stream",
     "text": [
      "10\n"
     ]
    }
   ],
   "execution_count": 3
  },
  {
   "metadata": {
    "ExecuteTime": {
     "end_time": "2024-06-03T16:20:48.731085Z",
     "start_time": "2024-06-03T16:20:48.718500Z"
    }
   },
   "cell_type": "code",
   "source": [
    "arr = [1,2,3,4,5,6,7,8]\n",
    "a = 2\n",
    "if a in arr:\n",
    "    print('a:',a)"
   ],
   "id": "35dd003886776cf1",
   "outputs": [
    {
     "name": "stdout",
     "output_type": "stream",
     "text": [
      "a 2\n"
     ]
    }
   ],
   "execution_count": 5
  },
  {
   "metadata": {
    "ExecuteTime": {
     "end_time": "2024-06-03T16:47:57.637686Z",
     "start_time": "2024-06-03T16:47:57.624029Z"
    }
   },
   "cell_type": "code",
   "source": [
    "#add two numbers\n",
    "num1 = 10.5\n",
    "num2 = 20\n",
    "sumOfTwo = num1 + num2\n",
    "print(sumOfTwo)\n",
    "\n"
   ],
   "id": "17c4f01a02afdbb3",
   "outputs": [
    {
     "name": "stdout",
     "output_type": "stream",
     "text": [
      "30.5\n"
     ]
    }
   ],
   "execution_count": 7
  },
  {
   "metadata": {
    "ExecuteTime": {
     "end_time": "2024-06-03T16:54:33.556117Z",
     "start_time": "2024-06-03T16:54:31.049136Z"
    }
   },
   "cell_type": "code",
   "source": [
    "a = input('enter first number')\n",
    "b = input('enter second number')\n",
    "\n",
    "sum = float(a) + float(b)\n",
    "print(f'the sum of {a} and {b} is {sum}')\n",
    "print('the sum of {} and {} is {}'.format(a,b,sum))\n",
    "print('the sum of {1} and {0} is {2}'.format(a,b,sum))\n"
   ],
   "id": "e861c0fc56aecce4",
   "outputs": [
    {
     "name": "stdout",
     "output_type": "stream",
     "text": [
      "the sum of 5 and 4 is 9.0\n",
      "the sum of 5 and 4 is 9.0\n",
      "the sum of 4 and 5 is 9.0\n"
     ]
    }
   ],
   "execution_count": 12
  },
  {
   "metadata": {
    "ExecuteTime": {
     "end_time": "2024-06-03T17:25:37.324466Z",
     "start_time": "2024-06-03T17:25:37.319615Z"
    }
   },
   "cell_type": "code",
   "source": [
    "#Add Two Numbers in Python Using Function\n",
    "def add(a,b):\n",
    "    \n",
    "    return a+b\n",
    "\n",
    "sumOfTwo = add(1,2)\n",
    "print(sumOfTwo)\n",
    "    \n",
    "    "
   ],
   "id": "d8d21b4451ab6541",
   "outputs": [
    {
     "name": "stdout",
     "output_type": "stream",
     "text": [
      "3\n",
      "the sum of 5 and 4 is 3\n"
     ]
    }
   ],
   "execution_count": 20
  },
  {
   "metadata": {
    "ExecuteTime": {
     "end_time": "2024-06-03T17:31:41.208068Z",
     "start_time": "2024-06-03T17:31:41.201992Z"
    }
   },
   "cell_type": "code",
   "source": [
    "a = 55\n",
    "b = 10\n",
    "\n",
    "import operator\n",
    "sumOfTwo = operator.add(a, b)\n",
    "sumOfTwo"
   ],
   "id": "18e75c841494ac03",
   "outputs": [
    {
     "data": {
      "text/plain": [
       "65"
      ]
     },
     "execution_count": 29,
     "metadata": {},
     "output_type": "execute_result"
    }
   ],
   "execution_count": 29
  },
  {
   "metadata": {
    "ExecuteTime": {
     "end_time": "2024-06-03T17:33:33.598030Z",
     "start_time": "2024-06-03T17:33:33.593037Z"
    }
   },
   "cell_type": "code",
   "source": [
    "# Add Two Number Using Lambda Function\n",
    "sumOfTwo = lambda a,b: a+b\n",
    "sumOfTwo(2,4)"
   ],
   "id": "6d9dfa7d6d77c045",
   "outputs": [
    {
     "data": {
      "text/plain": [
       "6"
      ]
     },
     "execution_count": 31,
     "metadata": {},
     "output_type": "execute_result"
    }
   ],
   "execution_count": 31
  },
  {
   "metadata": {
    "ExecuteTime": {
     "end_time": "2024-06-03T17:38:43.899508Z",
     "start_time": "2024-06-03T17:38:43.894828Z"
    }
   },
   "cell_type": "code",
   "source": [
    "# Add Two Numbers Using Recursive Function\n",
    "\n",
    "def add_numbers_recursive(a,b):\n",
    "    if b == 0:\n",
    "        return a\n",
    "    else:\n",
    "        return add_numbers_recursive(a + 1, b - 1)\n",
    "        \n",
    "        \n",
    "num1 = 1\n",
    "num2 = 2\n",
    "\n",
    "su = add_numbers_recursive(num1,num2)\n",
    "print(su)\n",
    "\n",
    "        \n",
    "        "
   ],
   "id": "2f972085bb027a39",
   "outputs": [
    {
     "name": "stdout",
     "output_type": "stream",
     "text": [
      "3\n"
     ]
    }
   ],
   "execution_count": 36
  }
 ],
 "metadata": {
  "kernelspec": {
   "display_name": "Python 3",
   "language": "python",
   "name": "python3"
  },
  "language_info": {
   "codemirror_mode": {
    "name": "ipython",
    "version": 2
   },
   "file_extension": ".py",
   "mimetype": "text/x-python",
   "name": "python",
   "nbconvert_exporter": "python",
   "pygments_lexer": "ipython2",
   "version": "2.7.6"
  }
 },
 "nbformat": 4,
 "nbformat_minor": 5
}
